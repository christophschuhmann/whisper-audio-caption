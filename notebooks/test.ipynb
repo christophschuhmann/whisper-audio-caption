{
 "cells": [
  {
   "cell_type": "code",
   "execution_count": null,
   "metadata": {},
   "outputs": [],
   "source": [
    "from datasets import load_dataset\n",
    "from transformers import WhisperForConditionalGeneration\n",
    "\n",
    "from data import DataCollatorSpeechSeq2SeqWithPadding, WhisperAudioCaptionProcessor"
   ]
  },
  {
   "cell_type": "code",
   "execution_count": null,
   "metadata": {},
   "outputs": [],
   "source": [
    "name = \"openai/whisper-tiny\"\n",
    "ckpt_dir = \"/home/seastar105/Work/audio-caption/logs/tiny-test/runs/2024-12-25_15-32-56/checkpoint-10000\""
   ]
  },
  {
   "cell_type": "code",
   "execution_count": null,
   "metadata": {},
   "outputs": [],
   "source": [
    "model = WhisperForConditionalGeneration.from_pretrained(ckpt_dir)"
   ]
  },
  {
   "cell_type": "code",
   "execution_count": null,
   "metadata": {},
   "outputs": [],
   "source": [
    "processor = WhisperAudioCaptionProcessor(name)\n",
    "tokenizer = processor.tokenizer\n",
    "collator = DataCollatorSpeechSeq2SeqWithPadding(processor)"
   ]
  },
  {
   "cell_type": "code",
   "execution_count": null,
   "metadata": {},
   "outputs": [],
   "source": [
    "dataset = (\n",
    "    load_dataset(\"krishnakalyan3/emo_webds_2\", split=\"train\", streaming=True)\n",
    "    .map(processor, batched=False)\n",
    "    .select_columns([\"input_features\", \"labels\"])\n",
    ")"
   ]
  },
  {
   "cell_type": "code",
   "execution_count": null,
   "metadata": {},
   "outputs": [],
   "source": [
    "batch_size = 4\n",
    "iterator = iter(dataset)\n",
    "batch = [next(iterator) for _ in range(batch_size)]"
   ]
  },
  {
   "cell_type": "code",
   "execution_count": null,
   "metadata": {},
   "outputs": [],
   "source": [
    "inputs = collator(batch)\n",
    "input_features = inputs.input_features\n",
    "for caption in tokenizer.batch_decode(inputs.labels, skip_special_tokens=True):\n",
    "    print(caption)"
   ]
  },
  {
   "cell_type": "code",
   "execution_count": null,
   "metadata": {},
   "outputs": [],
   "source": [
    "outputs = model.generate(**inputs, use_cache=True, do_sample=True, temperature=1.0)"
   ]
  },
  {
   "cell_type": "code",
   "execution_count": null,
   "metadata": {},
   "outputs": [],
   "source": [
    "result = tokenizer.batch_decode(outputs, skip_special_tokens=True)\n",
    "for sample in result:\n",
    "    print(sample)"
   ]
  },
  {
   "cell_type": "code",
   "execution_count": null,
   "metadata": {},
   "outputs": [],
   "source": []
  }
 ],
 "metadata": {
  "kernelspec": {
   "display_name": "audio-caption",
   "language": "python",
   "name": "python3"
  },
  "language_info": {
   "codemirror_mode": {
    "name": "ipython",
    "version": 3
   },
   "file_extension": ".py",
   "mimetype": "text/x-python",
   "name": "python",
   "nbconvert_exporter": "python",
   "pygments_lexer": "ipython3",
   "version": "3.10.16"
  }
 },
 "nbformat": 4,
 "nbformat_minor": 2
}
