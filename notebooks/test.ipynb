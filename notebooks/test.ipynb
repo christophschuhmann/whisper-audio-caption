{
 "cells": [
  {
   "cell_type": "code",
   "execution_count": 11,
   "metadata": {},
   "outputs": [],
   "source": [
    "from transformers import WhisperForConditionalGeneration\n",
    "from datasets import load_dataset\n",
    "from data import WhisperAudioCaptionProcessor, DataCollatorSpeechSeq2SeqWithPadding"
   ]
  },
  {
   "cell_type": "code",
   "execution_count": 2,
   "metadata": {},
   "outputs": [],
   "source": [
    "name = \"openai/whisper-tiny\"\n",
    "ckpt_dir = \"/home/seastar105/Work/audio-caption/logs/test_run/runs/2024-12-25_13-22-05/checkpoint-1000\""
   ]
  },
  {
   "cell_type": "code",
   "execution_count": null,
   "metadata": {},
   "outputs": [],
   "source": [
    "model = WhisperForConditionalGeneration.from_pretrained(ckpt_dir)"
   ]
  },
  {
   "cell_type": "code",
   "execution_count": 18,
   "metadata": {},
   "outputs": [],
   "source": [
    "processor = WhisperAudioCaptionProcessor(name)\n",
    "tokenizer = processor.tokenizer\n",
    "collator = DataCollatorSpeechSeq2SeqWithPadding(processor, model.config.decoder_start_token_id)"
   ]
  },
  {
   "cell_type": "code",
   "execution_count": 13,
   "metadata": {},
   "outputs": [],
   "source": [
    "dataset = load_dataset(\"krishnakalyan3/emo_webds_2\", split=\"train\", streaming=True).map(processor, batched=False).select_columns([\"input_features\", \"labels\"])\n",
    "sample = next(iter(dataset))\n",
    "inputs = collator([sample])"
   ]
  },
  {
   "cell_type": "code",
   "execution_count": 15,
   "metadata": {},
   "outputs": [],
   "source": [
    "outputs = model.generate(**inputs)"
   ]
  },
  {
   "cell_type": "code",
   "execution_count": 19,
   "metadata": {},
   "outputs": [
    {
     "data": {
      "text/plain": [
       "['A  speaker, with a slightly above average arousal and a hint of excitement in his tone, expresses a mix of emotions including high anger, moderate distress, and a hint of anxiety, while also experiencing a hint of disappointment.']"
      ]
     },
     "execution_count": 19,
     "metadata": {},
     "output_type": "execute_result"
    }
   ],
   "source": [
    "tokenizer.batch_decode(outputs, skip_special_tokens=True)"
   ]
  }
 ],
 "metadata": {
  "kernelspec": {
   "display_name": "audio-caption",
   "language": "python",
   "name": "python3"
  },
  "language_info": {
   "codemirror_mode": {
    "name": "ipython",
    "version": 3
   },
   "file_extension": ".py",
   "mimetype": "text/x-python",
   "name": "python",
   "nbconvert_exporter": "python",
   "pygments_lexer": "ipython3",
   "version": "3.10.16"
  }
 },
 "nbformat": 4,
 "nbformat_minor": 2
}
